{
 "cells": [
  {
   "cell_type": "markdown",
   "metadata": {},
   "source": [
    "# Welcome to Open Data Studio Jupyter notebook!\n",
    "\n",
    "Open Data Studio Jupyter notebook is a fully managed jupyter notebook environment with:\n",
    "\n",
    "   - Jupyter Lab\n",
    "   - Runs on fully managed Kubernetes cluster ([SKE](https://docs.staroid.com/ske/index.html)). No setup required\n",
    "   - Dynamically launch [Dask](https://dask.org/) cluster to scale your python tasks\n",
    "   - Pre-configured CUDA/GPU environment\n",
    "   - [MLflow](https://mlflow.org/) server integration to manage models\n",
    "\n",
    "### Take a quick tour\n",
    "\n",
    "   - [Dask dynamic cluster creation](dask/dask_dynamic_cluster.ipynb)\n",
    "   - [Tensorflow model training using GPU](gpu/tf_gpu_training.ipynb)\n",
    "   \n",
    "### Contribute or create your own version\n",
    "\n",
    "You can improve this environment by making pullrequest to https://github.com/open-datastudio/jupyter.\n",
    "\n",
    "Having your own version with customization but still enjoy fully managed environment on the cloud,s what you want,  can fork have have your own version of fully managed notebook environment on the cloud."
   ]
  },
  {
   "cell_type": "code",
   "execution_count": null,
   "metadata": {},
   "outputs": [],
   "source": []
  }
 ],
 "metadata": {
  "kernelspec": {
   "display_name": "Python 3",
   "language": "python",
   "name": "python3"
  },
  "language_info": {
   "codemirror_mode": {
    "name": "ipython",
    "version": 3
   },
   "file_extension": ".py",
   "mimetype": "text/x-python",
   "name": "python",
   "nbconvert_exporter": "python",
   "pygments_lexer": "ipython3",
   "version": "3.8.5"
  }
 },
 "nbformat": 4,
 "nbformat_minor": 4
}
