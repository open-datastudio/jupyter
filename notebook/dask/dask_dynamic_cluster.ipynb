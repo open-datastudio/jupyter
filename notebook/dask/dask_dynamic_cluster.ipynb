{
 "cells": [
  {
   "cell_type": "markdown",
   "metadata": {},
   "source": [
    "# Dask - Launch dynamic cluster\n",
    "\n",
    "While Open Data Studio Jupyter notebook runs on Kubernetes environment,\n",
    "we can launch dynamic, short lived dask cluster.\n"
   ]
  },
  {
   "cell_type": "markdown",
   "metadata": {},
   "source": [
    "## Install packages\n",
    "\n",
    "We'll install a couple of packages\n",
    "\n",
    "  - [dask-kubernetes](https://kubernetes.dask.org/en/latest/) - Deploys dask workers on Kubernetes\n",
    "  - lz4 - dask client need lz4 when workers have it\n",
    "  - bokeh - for dask ui\n",
    "  - kubernetes - It doesn't required by dask. But we'll use this package to create a Service resource to dask ui.\n",
    "  - numpy - To run example below\n",
    "  "
   ]
  },
  {
   "cell_type": "code",
   "execution_count": 6,
   "metadata": {},
   "outputs": [],
   "source": [
    "!pip -q install dask-kubernetes lz4 bokeh\n",
    "!pip -q install kubernetes\n",
    "!pip -q install numpy"
   ]
  },
  {
   "cell_type": "markdown",
   "metadata": {},
   "source": [
    "## Get dask-worker.yaml\n",
    "\n",
    "Clone https://github.com/open-datastudio/dask-cluster.git and get `dask-worker.yaml`.\n",
    "\n",
    "After clone, plase open the [dask-worker.yaml](../../dask-cluster/k8s/dask-worker.yaml) file and take look.\n",
    "You can adjust CPU, Memory and whether you'd like to place the worker on Spot instance or not."
   ]
  },
  {
   "cell_type": "code",
   "execution_count": null,
   "metadata": {},
   "outputs": [],
   "source": [
    "!git clone https://github.com/open-datastudio/dask-cluster.git"
   ]
  },
  {
   "cell_type": "markdown",
   "metadata": {},
   "source": [
    "## Create dask cluster\n",
    "\n",
    "Following will create dask workers and establish connections to them.\n",
    "You can check you kubernetes namespace and workers (Pods) are created.\n",
    "\n",
    "  - dask-worker.yaml - Kubernetes pod template to create dask worker"
   ]
  },
  {
   "cell_type": "code",
   "execution_count": null,
   "metadata": {},
   "outputs": [],
   "source": [
    "from dask_kubernetes import KubeCluster\n",
    "\n",
    "cluster = KubeCluster.from_yaml('dask-cluster/k8s/dask-worker.yaml')\n",
    "cluster.scale(10)  # specify number of workers explicitly\n",
    "\n",
    "cluster.adapt(minimum=1, maximum=100)  # or dynamically scale based on current workload"
   ]
  },
  {
   "cell_type": "markdown",
   "metadata": {},
   "source": [
    "## Run some compute on the cluster\n",
    "\n",
    "Let's run simple example"
   ]
  },
  {
   "cell_type": "code",
   "execution_count": null,
   "metadata": {},
   "outputs": [],
   "source": [
    "# Example usage\n",
    "from dask.distributed import Client\n",
    "import dask.array as da\n",
    "\n",
    "# Connect Dask to the cluster\n",
    "client = Client(cluster)\n",
    "\n",
    "# Create a large array and calculate the mean\n",
    "array = da.ones((1000, 1000, 1000))\n",
    "print(array.mean().compute())  # Should print 1.0"
   ]
  },
  {
   "cell_type": "markdown",
   "metadata": {},
   "source": [
    "## Open dask UI\n",
    "\n",
    "Following code will create a Service resource object with link on [staroid](https://staroid.com) management console."
   ]
  },
  {
   "cell_type": "code",
   "execution_count": null,
   "metadata": {},
   "outputs": [],
   "source": [
    "import kubernetes, yaml\n",
    "\n",
    "kubernetes.config.load_incluster_config()\n",
    "current_namespace = open(\"/var/run/secrets/kubernetes.io/serviceaccount/namespace\").read()\n",
    "\n",
    "\n",
    "with open(\"dask-cluster/k8s/dask-ui-service.yaml\") as f:\n",
    "    dep = yaml.safe_load(f)\n",
    "    v1 = kubernetes.client.CoreV1Api()\n",
    "    \n",
    "    try:\n",
    "        service = v1.create_namespaced_service(\n",
    "            namespace=current_namespace,\n",
    "            body = dep\n",
    "        )\n",
    "    except kubernetes.client.rest.ApiException as err:\n",
    "        if err.status == 409:\n",
    "            # already exists\n",
    "            print(\"Already created\")\n",
    "        else:\n",
    "            raise(err)\n",
    "        "
   ]
  },
  {
   "cell_type": "markdown",
   "metadata": {},
   "source": [
    "\n",
    "Click dask-ui button to open dask UI\n",
    "![](https://user-images.githubusercontent.com/1540981/89221454-29191680-d588-11ea-9bb9-30a5297ff0d7.png)\n",
    "\n",
    "You can run some compute on dask and see dask UI is updated in real time."
   ]
  },
  {
   "cell_type": "markdown",
   "metadata": {},
   "source": [
    "## Shutdown workers\n",
    "\n",
    "You can shutdown your workers once you finish your task.\n",
    "This will terminate all worker pods on Kubernetes."
   ]
  },
  {
   "cell_type": "code",
   "execution_count": null,
   "metadata": {},
   "outputs": [],
   "source": [
    "cluster.close()"
   ]
  },
  {
   "cell_type": "markdown",
   "metadata": {},
   "source": [
    "## More examples\n",
    "\n",
    "  - https://examples.dask.org/"
   ]
  },
  {
   "cell_type": "code",
   "execution_count": null,
   "metadata": {},
   "outputs": [],
   "source": [
    "# clone example notebooks\n",
    "!git clone https://github.com/dask/dask-examples.git"
   ]
  }
 ],
 "metadata": {
  "kernelspec": {
   "display_name": "Python 3",
   "language": "python",
   "name": "python3"
  },
  "language_info": {
   "codemirror_mode": {
    "name": "ipython",
    "version": 3
   },
   "file_extension": ".py",
   "mimetype": "text/x-python",
   "name": "python",
   "nbconvert_exporter": "python",
   "pygments_lexer": "ipython3",
   "version": "3.8.5"
  }
 },
 "nbformat": 4,
 "nbformat_minor": 4
}
